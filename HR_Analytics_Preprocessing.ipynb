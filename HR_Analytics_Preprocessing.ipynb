{
  "nbformat": 4,
  "nbformat_minor": 0,
  "metadata": {
    "colab": {
      "provenance": []
    },
    "kernelspec": {
      "name": "python3",
      "display_name": "Python 3"
    },
    "language_info": {
      "name": "python"
    }
  },
  "cells": [
    {
      "cell_type": "code",
      "execution_count": null,
      "metadata": {
        "id": "ANHexz_G7g1t"
      },
      "outputs": [],
      "source": [
        "import pandas as pd\n",
        "import numpy as np"
      ]
    },
    {
      "cell_type": "code",
      "source": [
        "from pathlib import Path\n",
        "from sklearn.model_selection import train_test_split\n",
        "from sklearn.preprocessing import OneHotEncoder, StandardScaler\n",
        "from sklearn.compose import ColumnTransformer\n",
        "from sklearn.pipeline import Pipeline\n",
        "from sklearn.impute import SimpleImputer"
      ],
      "metadata": {
        "id": "RYXEwP8e9MOi"
      },
      "execution_count": null,
      "outputs": []
    },
    {
      "cell_type": "code",
      "source": [
        "DATA_PATH = Path(\"/content/HR_Employee_Attrition_dataset.csv\")\n",
        "df = pd.read_csv(DATA_PATH)"
      ],
      "metadata": {
        "id": "woNZPSUE9MLI"
      },
      "execution_count": null,
      "outputs": []
    },
    {
      "cell_type": "code",
      "source": [
        "print(\"Shape:\", df.shape)\n",
        "print(df.head(2))"
      ],
      "metadata": {
        "colab": {
          "base_uri": "https://localhost:8080/"
        },
        "id": "dZwkDug39MIO",
        "outputId": "c34c2d65-2903-4306-f25b-3e5c9a7ec3fa"
      },
      "execution_count": null,
      "outputs": [
        {
          "output_type": "stream",
          "name": "stdout",
          "text": [
            "Shape: (1470, 35)\n",
            "   Age Attrition     BusinessTravel  DailyRate Department  DistanceFromHome  \\\n",
            "0   19       Yes  Travel_Frequently        602      Sales                 1   \n",
            "1   50       Yes  Travel_Frequently        959      Sales                 1   \n",
            "\n",
            "   Education    EducationField  EmployeeCount  EmployeeNumber  ...  \\\n",
            "0          1  Technical Degree              1             235  ...   \n",
            "1          4             Other              1            1113  ...   \n",
            "\n",
            "   RelationshipSatisfaction StandardHours  StockOptionLevel  \\\n",
            "0                         1            80                 0   \n",
            "1                         4            80                 0   \n",
            "\n",
            "   TotalWorkingYears  TrainingTimesLastYear WorkLifeBalance  YearsAtCompany  \\\n",
            "0                  1                      5               4               0   \n",
            "1                  5                      4               3               0   \n",
            "\n",
            "  YearsInCurrentRole  YearsSinceLastPromotion  YearsWithCurrManager  \n",
            "0                  0                        0                     0  \n",
            "1                  0                        0                     0  \n",
            "\n",
            "[2 rows x 35 columns]\n"
          ]
        }
      ]
    },
    {
      "cell_type": "code",
      "source": [
        "for c in df.select_dtypes(include='object').columns:\n",
        "    df[c] = df[c].astype(str).str.strip()"
      ],
      "metadata": {
        "id": "OZSCmjJg9MFT"
      },
      "execution_count": null,
      "outputs": []
    },
    {
      "cell_type": "code",
      "source": [
        "df = df.drop_duplicates().reset_index(drop=True)"
      ],
      "metadata": {
        "id": "nyOgEq-L9MCa"
      },
      "execution_count": null,
      "outputs": []
    },
    {
      "cell_type": "code",
      "source": [
        "print(\"\\nMissing values per column:\\n\", df.isna().sum())\n",
        "print(\"\\nUnique values (first few cols):\\n\", df.nunique().head())"
      ],
      "metadata": {
        "colab": {
          "base_uri": "https://localhost:8080/"
        },
        "id": "TOLR621H9L_k",
        "outputId": "2d9f2046-6fa1-4670-d984-5d84f562f5c9"
      },
      "execution_count": null,
      "outputs": [
        {
          "output_type": "stream",
          "name": "stdout",
          "text": [
            "\n",
            "Missing values per column:\n",
            " Age                         0\n",
            "Attrition                   0\n",
            "BusinessTravel              0\n",
            "DailyRate                   0\n",
            "Department                  0\n",
            "DistanceFromHome            0\n",
            "Education                   0\n",
            "EducationField              0\n",
            "EmployeeCount               0\n",
            "EmployeeNumber              0\n",
            "EnvironmentSatisfaction     0\n",
            "Gender                      0\n",
            "HourlyRate                  0\n",
            "JobInvolvement              0\n",
            "JobLevel                    0\n",
            "JobRole                     0\n",
            "JobSatisfaction             0\n",
            "MaritalStatus               0\n",
            "MonthlyIncome               0\n",
            "MonthlyRate                 0\n",
            "NumCompaniesWorked          0\n",
            "Over18                      0\n",
            "OverTime                    0\n",
            "PercentSalaryHike           0\n",
            "PerformanceRating           0\n",
            "RelationshipSatisfaction    0\n",
            "StandardHours               0\n",
            "StockOptionLevel            0\n",
            "TotalWorkingYears           0\n",
            "TrainingTimesLastYear       0\n",
            "WorkLifeBalance             0\n",
            "YearsAtCompany              0\n",
            "YearsInCurrentRole          0\n",
            "YearsSinceLastPromotion     0\n",
            "YearsWithCurrManager        0\n",
            "dtype: int64\n",
            "\n",
            "Unique values (first few cols):\n",
            " Age                43\n",
            "Attrition           2\n",
            "BusinessTravel      3\n",
            "DailyRate         886\n",
            "Department          3\n",
            "dtype: int64\n"
          ]
        }
      ]
    },
    {
      "cell_type": "code",
      "source": [
        "drop_cols = [c for c in [\"EmployeeCount\", \"Over18\", \"StandardHours\", \"EmployeeNumber\"] if c in df.columns]\n",
        "df = df.drop(columns=drop_cols)"
      ],
      "metadata": {
        "id": "AKVudCxe9L8l"
      },
      "execution_count": null,
      "outputs": []
    },
    {
      "cell_type": "code",
      "source": [
        "if \"Attrition\" in df.columns:\n",
        "    df[\"Attrition_Flag\"] = (df[\"Attrition\"].str.upper() == \"YES\").astype(int)\n",
        "else:\n",
        "    raise ValueError(\"Column 'Attrition' not found in the dataset.\")"
      ],
      "metadata": {
        "id": "2hniWlDa9L5o"
      },
      "execution_count": null,
      "outputs": []
    },
    {
      "cell_type": "code",
      "source": [
        "if \"YearsAtCompany\" in df.columns:\n",
        "    df[\"Tenure_Bucket\"] = pd.cut(\n",
        "        df[\"YearsAtCompany\"],\n",
        "        bins=[-1, 1, 3, 5, 10, 40],\n",
        "        labels=[\"<=1y\", \"1-3y\", \"3-5y\", \"5-10y\", \"10y+\"]\n",
        "    )"
      ],
      "metadata": {
        "id": "LnT5bL8x9L22"
      },
      "execution_count": null,
      "outputs": []
    },
    {
      "cell_type": "code",
      "source": [
        "bi_cols_order = [c for c in df.columns if c != \"Attrition_Flag\"] + [\"Attrition_Flag\"]\n",
        "df_bi = df[bi_cols_order].copy()\n",
        "bi_out = Path(\"/content/hr_clean_for_bi.csv\")\n",
        "df_bi.to_csv(bi_out, index=False)\n",
        "print(f\"\\n✅ Saved BI-ready file -> {bi_out}\")"
      ],
      "metadata": {
        "colab": {
          "base_uri": "https://localhost:8080/"
        },
        "id": "k71anQ4E9Lz0",
        "outputId": "529170dc-82fa-49fb-e64f-03170714ba25"
      },
      "execution_count": null,
      "outputs": [
        {
          "output_type": "stream",
          "name": "stdout",
          "text": [
            "\n",
            "✅ Saved BI-ready file -> /content/hr_clean_for_bi.csv\n"
          ]
        }
      ]
    }
  ]
}